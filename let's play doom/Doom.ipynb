{
 "cells": [
  {
   "cell_type": "code",
   "execution_count": 31,
   "metadata": {},
   "outputs": [],
   "source": [
    "import tensorflow as tf\n",
    "import keras \n",
    "from keras.layers import *\n",
    "from keras.models import *\n",
    "import vizdoom \n",
    "import numpy as np\n",
    "import matplotlib.pyplot as plt\n",
    "from PIL import Image\n",
    "from collections import deque\n",
    "from vizdoom import *\n",
    "import random\n",
    "import time"
   ]
  },
  {
   "cell_type": "code",
   "execution_count": 32,
   "metadata": {},
   "outputs": [],
   "source": [
    "num_seq = 4"
   ]
  },
  {
   "cell_type": "code",
   "execution_count": 33,
   "metadata": {},
   "outputs": [],
   "source": [
    "shape = [128,128,3]"
   ]
  },
  {
   "cell_type": "code",
   "execution_count": null,
   "metadata": {},
   "outputs": [],
   "source": []
  },
  {
   "cell_type": "code",
   "execution_count": 34,
   "metadata": {},
   "outputs": [],
   "source": [
    "left = [1, 0, 0]\n",
    "right = [0, 1, 0]\n",
    "shoot = [0, 0, 1]\n",
    "possible_actions = [left, right, shoot]\n",
    "total_episodes = 500\n",
    "max_steps = 125\n",
    "batch_size = 128\n",
    "explore_start = 1.0\n",
    "explore_stop = 0.01\n",
    "decay_rate = 1e-4\n",
    "\n",
    "\n",
    "gamma = 0.95\n",
    "memory_size = 1e+3\n",
    "\n",
    "training = False\n",
    "# change the training to true in order to train your model\n",
    "\n",
    "episode_render = False\n",
    "\n"
   ]
  },
  {
   "cell_type": "code",
   "execution_count": 35,
   "metadata": {},
   "outputs": [],
   "source": [
    "game = DoomGame()"
   ]
  },
  {
   "cell_type": "code",
   "execution_count": 36,
   "metadata": {},
   "outputs": [
    {
     "data": {
      "text/plain": [
       "True"
      ]
     },
     "execution_count": 36,
     "metadata": {},
     "output_type": "execute_result"
    }
   ],
   "source": [
    "game.load_config(\"basic.cfg\")"
   ]
  },
  {
   "cell_type": "code",
   "execution_count": 37,
   "metadata": {},
   "outputs": [],
   "source": [
    "game.set_doom_scenario_path(\"basic.wad\")"
   ]
  },
  {
   "cell_type": "code",
   "execution_count": 38,
   "metadata": {},
   "outputs": [],
   "source": [
    "game.init()"
   ]
  },
  {
   "cell_type": "code",
   "execution_count": 39,
   "metadata": {},
   "outputs": [],
   "source": [
    "arr = np.array(game.get_state().screen_buffer)"
   ]
  },
  {
   "cell_type": "code",
   "execution_count": 40,
   "metadata": {},
   "outputs": [
    {
     "data": {
      "text/plain": [
       "(3, 240, 320)"
      ]
     },
     "execution_count": 40,
     "metadata": {},
     "output_type": "execute_result"
    }
   ],
   "source": [
    "arr.shape"
   ]
  },
  {
   "cell_type": "code",
   "execution_count": 41,
   "metadata": {},
   "outputs": [],
   "source": [
    "x = np.stack([arr[i] for i in range(3)], axis=2)"
   ]
  },
  {
   "cell_type": "code",
   "execution_count": 42,
   "metadata": {},
   "outputs": [
    {
     "data": {
      "text/plain": [
       "(240, 320, 3)"
      ]
     },
     "execution_count": 42,
     "metadata": {},
     "output_type": "execute_result"
    }
   ],
   "source": [
    "x.shape"
   ]
  },
  {
   "cell_type": "code",
   "execution_count": 43,
   "metadata": {},
   "outputs": [
    {
     "data": {
      "image/png": "[encoded data removed]",
      "text/plain": [
       "<PIL.Image.Image image mode=RGB size=128x128 at 0x26502FBE710>"
      ]
     },
     "execution_count": 43,
     "metadata": {},
     "output_type": "execute_result"
    }
   ],
   "source": [
    "Image.fromarray(x).resize([128,128])"
   ]
  },
  {
   "cell_type": "code",
   "execution_count": 44,
   "metadata": {},
   "outputs": [
    {
     "data": {
      "text/plain": [
       "[1, 1, 2]"
      ]
     },
     "execution_count": 44,
     "metadata": {},
     "output_type": "execute_result"
    }
   ],
   "source": [
    "[1, *[1,2]]"
   ]
  },
  {
   "cell_type": "code",
   "execution_count": 45,
   "metadata": {},
   "outputs": [],
   "source": [
    "class NeuralNetwork:\n",
    "    \n",
    "    def __init__(self, shape):\n",
    "        self.input_ = tf.placeholder(shape = [None, *shape], dtype=tf.float32)\n",
    "        self.actions_ = tf.placeholder(shape=[None, 3], dtype=tf.float32)\n",
    "        self.target_Q = tf.placeholder(shape=[None], dtype=tf.float32)\n",
    "        self.conv1 = tf.layers.conv2d(self.input_, 32,\n",
    "                                      kernel_size=(5,5), strides=(2,2),\n",
    "                                      padding=\"SAME\", activation=None, name=\"conv1\",\n",
    "                                      kernel_initializer= tf.glorot_uniform_initializer(dtype=tf.float16))\n",
    "        self.batch_norm1 = tf.layers.batch_normalization(self.conv1, training=True, name=\"ba1\")\n",
    "        self.conv1_out = tf.nn.elu(self.batch_norm1, name=\"out1\")\n",
    "        \n",
    "        \n",
    "        self.conv2 = tf.layers.conv2d(self.conv1_out, 64, [5,5],\n",
    "                                      strides=(2,2), padding=\"SAME\", activation=None, name=\"conv2\",\n",
    "                                      kernel_initializer= tf.glorot_uniform_initializer(dtype=tf.float16))\n",
    "        self.batch_norm2 = tf.layers.batch_normalization(self.conv2, training=True, name=\"ba2\")\n",
    "        self.conv2_out = tf.nn.elu(self.batch_norm2, name = \"out2\")\n",
    "        \n",
    "        self.conv3 = tf.layers.conv2d(self.conv2_out, 128, [5,5], [2,2], activation=None, name=\"conv3\", padding=\"SAME\",\n",
    "                                      kernel_initializer= tf.glorot_uniform_initializer(dtype=tf.float16))\n",
    "        self.batch_norm3 = tf.layers.batch_normalization(self.conv3, training=True, name=\"ba3\")\n",
    "        self.conv3_out = tf.nn.elu(self.batch_norm3, name=\"out3\")\n",
    "        \n",
    "        \n",
    "        self.conv4 = tf.layers.conv2d(self.conv3_out, 128, [5,5], [2,2], activation=None, name=\"conv4\", padding=\"SAME\",\n",
    "                                      kernel_initializer= tf.glorot_uniform_initializer(dtype=tf.float16))\n",
    "        self.batch_norm4 = tf.layers.batch_normalization(self.conv4, training=True, name=\"ba4\")\n",
    "        self.conv4_out = tf.nn.elu(self.batch_norm4, name=\"out4\")\n",
    "        \n",
    "        \n",
    "        self.flat = tf.layers.flatten(self.conv4_out)\n",
    "        \n",
    "        self.fc1 = tf.layers.dense(self.flat, 1000, activation=tf.nn.relu, name=\"fc1\",\n",
    "                                      kernel_initializer= tf.glorot_uniform_initializer(dtype=tf.float16))\n",
    "        self.fc2 = tf.layers.dense(self.fc1, 100, activation=tf.nn.relu, name=\"fc2\",\n",
    "                                      kernel_initializer= tf.glorot_uniform_initializer(dtype=tf.float16))\n",
    "        self.out = tf.layers.dense(self.fc2, 3, activation=None, name=\"fc3\",\n",
    "                                      kernel_initializer= tf.glorot_uniform_initializer(dtype=tf.float16))\n",
    "        \n",
    "        \n",
    "        \n",
    "        \n",
    "        self.Q = tf.reduce_sum(tf.multiply(self.out, self.actions_), axis=1)\n",
    "        \n",
    "        self.loss = tf.reduce_mean(tf.square(self.Q - self.target_Q))\n",
    "        \n",
    "        self.optimizer = tf.train.AdamOptimizer(learning_rate=2e-4).minimize(self.loss)\n",
    "        \n",
    "        \n",
    "        \n",
    "        \n",
    "        \n",
    "        \n",
    "        \n",
    "        \n",
    "        \n",
    "        \n",
    "        \n",
    "    \n",
    "    "
   ]
  },
  {
   "cell_type": "code",
   "execution_count": 46,
   "metadata": {},
   "outputs": [],
   "source": [
    "tf.reset_default_graph()\n",
    "nn = NeuralNetwork([*shape[:-1],shape[-1] * num_seq])"
   ]
  },
  {
   "cell_type": "code",
   "execution_count": 47,
   "metadata": {},
   "outputs": [],
   "source": [
    "class memory:\n",
    "    def __init__(self, max_size = int(1e+6)):\n",
    "        self.mem = []\n",
    "        self.counter = 0\n",
    "        self.max_size = max_size\n",
    "        \n",
    "    def addMem(self, x):\n",
    "        if self.counter >= self.max_size :\n",
    "            self.mem[int(int(self.counter)%int(self.max_size))] = x\n",
    "        else:\n",
    "            self.mem.append(x)\n",
    "        self.counter += 1\n",
    "    \n",
    "    def getMem(self, batch_size):\n",
    "        ind = np.arange(len(self.mem))\n",
    "        ind = np.random.choice(ind, batch_size, replace=False)\n",
    "        return [self.mem[i] for i in ind]\n",
    "        \n",
    "    \n",
    "    "
   ]
  },
  {
   "cell_type": "code",
   "execution_count": 48,
   "metadata": {},
   "outputs": [],
   "source": [
    "def get_picture(game, before = None, arr = None):\n",
    "    if arr is None:\n",
    "        arr = game.get_state().screen_buffer\n",
    "        x = np.stack([arr[i] for i in range(3)], axis=2)\n",
    "        x = np.array(Image.fromarray(x).resize(shape[:-1])).astype(np.float32)\n",
    "    else : \n",
    "        x = arr.astype(np.float32)\n",
    "    x = x / 255.0\n",
    "    if before is None:\n",
    "        return np.concatenate([x for i in range(num_seq)], axis=-1)\n",
    "    \n",
    "    else :\n",
    "        res = before.copy()\n",
    "        res [:,:,:-3] = before[:,:,3:]\n",
    "        res[:,:,-3:]=x\n",
    "        return res\n",
    "    \n",
    "    "
   ]
  },
  {
   "cell_type": "code",
   "execution_count": 49,
   "metadata": {},
   "outputs": [],
   "source": [
    "mem = memory(memory_size)"
   ]
  },
  {
   "cell_type": "code",
   "execution_count": 50,
   "metadata": {},
   "outputs": [],
   "source": [
    "for i in range(int(batch_size)):\n",
    "    if i == 0 :\n",
    "        state = get_picture(game)\n",
    "    ac = random.choice(possible_actions)\n",
    "    reward = game.make_action(ac)\n",
    "    done = game.is_episode_finished()\n",
    "    if done :\n",
    "        next_state = get_picture(game, state, np.zeros([*state.shape[:-1],3]))\n",
    "        mem.addMem((state, ac, next_state, reward, done))\n",
    "        game.new_episode()\n",
    "        state = get_picture(game)\n",
    "        \n",
    "    else:\n",
    "        next_state = get_picture(game, state)\n",
    "        mem.addMem((state, ac, next_state, reward, done))\n",
    "        state = next_state\n",
    "#     if i % 1000 == 0 :\n",
    "#         print(sys.getsizeof(mem.mem))"
   ]
  },
  {
   "cell_type": "code",
   "execution_count": 51,
   "metadata": {},
   "outputs": [],
   "source": [
    "def predict_next(explore_start, explore_stop, decay_rate, decay_step, state, actions):\n",
    "    \n",
    "    rand = np.random.rand()\n",
    "    \n",
    "    \n",
    "    explore_prob = explore_stop + (explore_start - explore_stop) * np.exp(-decay_step * decay_rate)\n",
    "    \n",
    "    \n",
    "    if explore_prob > rand :\n",
    "        \n",
    "        action = random.choice(possible_actions)\n",
    "        \n",
    "    else : \n",
    "        Qs = sess.run(nn.out, feed_dict={nn.input_:state})\n",
    "        choice = np.argmax(Qs)\n",
    "        action = possible_actions[int(choice)]\n",
    "    return action, explore_prob\n",
    "    "
   ]
  },
  {
   "cell_type": "code",
   "execution_count": 52,
   "metadata": {},
   "outputs": [],
   "source": [
    "saver = tf.train.Saver()"
   ]
  },
  {
   "cell_type": "code",
   "execution_count": 53,
   "metadata": {},
   "outputs": [],
   "source": [
    "if training == True :\n",
    "    with tf.Session() as sess :\n",
    "        sess.run(tf.global_variables_initializer())\n",
    "        \n",
    "        decay_step = 0\n",
    "        \n",
    "        game.init()\n",
    "        \n",
    "        \n",
    "        for episode in range(total_episodes):\n",
    "            \n",
    "            step = 0\n",
    "            \n",
    "            episode_reward = []\n",
    "            game.new_episode()\n",
    "            \n",
    "            state = get_picture(game)\n",
    "            st = 0\n",
    "            \n",
    "            while step < max_steps :\n",
    "                \n",
    "                step += 1 \n",
    "                decay_step += 1\n",
    "                st += 1\n",
    "                \n",
    "                action, explore_prob = predict_next(explore_start, explore_stop, decay_rate, \n",
    "                                                    decay_step, state.reshape((1,)+state.shape), possible_actions)\n",
    "                \n",
    "                reward = game.make_action(action)\n",
    "                \n",
    "                done = game.is_episode_finished()\n",
    "                \n",
    "                episode_reward.append(reward)\n",
    "                \n",
    "                \n",
    "                if done : \n",
    "                    next_state = get_picture(game, state, np.zeros(shape))\n",
    "                    #the next line is instead of a break\n",
    "                    step = max_steps\n",
    "                    mem.addMem((state, action, next_state, reward, done))\n",
    "                    \n",
    "                    \n",
    "                    \n",
    "                    \n",
    "                else :\n",
    "                    \n",
    "                    next_state = get_picture(game, state)\n",
    "                    mem.addMem((state, action, next_state, reward, done))\n",
    "                    state = next_state\n",
    "                \n",
    "                \n",
    "                batch = mem.getMem(batch_size)\n",
    "                states_mb = np.array([each[0] for each in batch], ndmin=3)\n",
    "                actions_mb = np.array([each[1] for each in batch])\n",
    "                rewards_mb = np.array([each[3] for each in batch]) \n",
    "                next_states_mb = np.array([each[2] for each in batch], ndmin=3)\n",
    "                dones_mb = np.array([each[4] for each in batch])\n",
    "                \n",
    "                \n",
    "#                 print(np.sum(np.isnan(next_states_mb)))\n",
    "                Qs_next_state = sess.run(nn.out, feed_dict={nn.input_:next_states_mb})\n",
    "#                 print(Qs_next_state)\n",
    "#                 print()\n",
    "                \n",
    "                target_Qs_batch = []\n",
    "                \n",
    "                for i in range(batch_size):\n",
    "                    \n",
    "                    t = dones_mb[i]\n",
    "                    \n",
    "                    \n",
    "                    if t : \n",
    "                        target_Qs_batch.append(rewards_mb[i])\n",
    "                    else :\n",
    "                        target = rewards_mb[i] + gamma*np.max(Qs_next_state[i])\n",
    "                        target_Qs_batch.append(target)\n",
    "                \n",
    "                target_Qs_batch = np.array(target_Qs_batch)\n",
    "                feed_dict = {nn.input_:states_mb, nn.target_Q:target_Qs_batch, nn.actions_:actions_mb}\n",
    "                sess.run(nn.optimizer, feed_dict)\n",
    "                \n",
    "            \n",
    "            loss = nn.loss.eval(session=sess, feed_dict=feed_dict)\n",
    "            print(episode, explore_prob, np.sum(episode_reward),st, loss)\n",
    "            \n",
    "            if episode % 5 == 0:\n",
    "                save_path = saver.save(sess, \"./models/model.ckpt\")\n",
    "                print(\"Model Saved\")\n",
    "                \n",
    "                \n",
    "                \n",
    "                \n",
    "            \n",
    "        \n",
    "        \n",
    "    "
   ]
  },
  {
   "cell_type": "code",
   "execution_count": null,
   "metadata": {
    "scrolled": true
   },
   "outputs": [
    {
     "name": "stdout",
     "output_type": "stream",
     "text": [
      "INFO:tensorflow:Restoring parameters from ./models/model.ckpt\n"
     ]
    }
   ],
   "source": [
    "if training == False :\n",
    "    game.init()\n",
    "    with tf.Session() as sess :\n",
    "        saver.restore(sess, \"./models/model.ckpt\")\n",
    "        for episode in range(total_episodes):\n",
    "            game.new_episode()\n",
    "            state = get_picture(game)\n",
    "            rewards = 0\n",
    "            for i in range(max_steps):\n",
    "                time.sleep(0.8e-2)\n",
    "                next_action = np.argmax(sess.run(nn.out, feed_dict={nn.input_:state.reshape((1,)+state.shape) }))\n",
    "                rewards += game.make_action(possible_actions[next_action])\n",
    "                done = game.is_episode_finished()\n",
    "                if done :\n",
    "                    if episode % 20 == 0:\n",
    "                        print(rewards)\n",
    "                else :\n",
    "                    state = get_picture(game, state)\n"
   ]
  },
  {
   "cell_type": "code",
   "execution_count": 43,
   "metadata": {},
   "outputs": [],
   "source": []
  },
  {
   "cell_type": "code",
   "execution_count": null,
   "metadata": {},
   "outputs": [],
   "source": []
  }
 ],
 "metadata": {
  "kernelspec": {
   "display_name": "Python 3",
   "language": "python",
   "name": "python3"
  },
  "language_info": {
   "codemirror_mode": {
    "name": "ipython",
    "version": 3
   },
   "file_extension": ".py",
   "mimetype": "text/x-python",
   "name": "python",
   "nbconvert_exporter": "python",
   "pygments_lexer": "ipython3",
   "version": "3.6.5"
  }
 },
 "nbformat": 4,
 "nbformat_minor": 2
}
