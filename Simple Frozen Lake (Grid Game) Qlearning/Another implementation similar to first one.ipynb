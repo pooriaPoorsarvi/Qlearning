{
 "cells": [
  {
   "cell_type": "code",
   "execution_count": 6,
   "metadata": {},
   "outputs": [],
   "source": [
    "import numpy as np\n",
    "import gym \n",
    "import random"
   ]
  },
  {
   "cell_type": "code",
   "execution_count": 17,
   "metadata": {},
   "outputs": [],
   "source": [
    "env = gym.make(\"FrozenLake-v0\")"
   ]
  },
  {
   "cell_type": "code",
   "execution_count": 18,
   "metadata": {},
   "outputs": [],
   "source": [
    "action_size = env.action_space.n\n",
    "state_size = env.observation_space.n"
   ]
  },
  {
   "cell_type": "code",
   "execution_count": 19,
   "metadata": {},
   "outputs": [
    {
     "name": "stdout",
     "output_type": "stream",
     "text": [
      "[[0. 0. 0. 0.]\n",
      " [0. 0. 0. 0.]\n",
      " [0. 0. 0. 0.]\n",
      " [0. 0. 0. 0.]\n",
      " [0. 0. 0. 0.]\n",
      " [0. 0. 0. 0.]\n",
      " [0. 0. 0. 0.]\n",
      " [0. 0. 0. 0.]\n",
      " [0. 0. 0. 0.]\n",
      " [0. 0. 0. 0.]\n",
      " [0. 0. 0. 0.]\n",
      " [0. 0. 0. 0.]\n",
      " [0. 0. 0. 0.]\n",
      " [0. 0. 0. 0.]\n",
      " [0. 0. 0. 0.]\n",
      " [0. 0. 0. 0.]]\n"
     ]
    }
   ],
   "source": [
    "qtable = np.zeros((state_size, action_size))\n",
    "print(qtable)"
   ]
  },
  {
   "cell_type": "code",
   "execution_count": 21,
   "metadata": {},
   "outputs": [],
   "source": [
    "total_episodes = 15000\n",
    "learning_rate = 0.8\n",
    "max_steps = 99\n",
    "gamma = 0.95\n",
    "\n",
    "epsilon = 1.0\n",
    "max_epsilon = 1.0\n",
    "min_epsilon = 0.01\n",
    "decay_rate = 0.005\n",
    "\n"
   ]
  },
  {
   "cell_type": "code",
   "execution_count": 12,
   "metadata": {},
   "outputs": [
    {
     "name": "stdout",
     "output_type": "stream",
     "text": [
      "Score over time : 0.47886666666666666\n",
      "[[4.28036287e-01 9.48313623e-02 9.91199914e-02 8.94115302e-02]\n",
      " [1.45816936e-03 5.30544310e-03 7.21417180e-03 1.00459660e-01]\n",
      " [1.14862479e-02 9.08063239e-03 1.25304891e-02 3.45365361e-02]\n",
      " [4.57591848e-03 6.13968926e-03 3.94970516e-03 3.12845545e-02]\n",
      " [5.64665602e-01 4.78619118e-02 1.39751502e-03 2.00345170e-02]\n",
      " [0.00000000e+00 0.00000000e+00 0.00000000e+00 0.00000000e+00]\n",
      " [4.38875568e-06 2.46074561e-06 1.03040565e-02 2.19528559e-06]\n",
      " [0.00000000e+00 0.00000000e+00 0.00000000e+00 0.00000000e+00]\n",
      " [3.79862215e-02 2.58583987e-02 2.21017039e-02 7.40768578e-01]\n",
      " [4.50965607e-02 8.47592634e-01 4.66505977e-05 5.12416531e-02]\n",
      " [2.21150071e-01 4.23165532e-04 1.15889229e-03 4.71388556e-03]\n",
      " [0.00000000e+00 0.00000000e+00 0.00000000e+00 0.00000000e+00]\n",
      " [0.00000000e+00 0.00000000e+00 0.00000000e+00 0.00000000e+00]\n",
      " [1.26181393e-01 8.45590066e-02 8.53212240e-01 1.64399020e-01]\n",
      " [2.29674378e-01 9.71063678e-01 2.77401794e-01 5.17088090e-01]\n",
      " [0.00000000e+00 0.00000000e+00 0.00000000e+00 0.00000000e+00]]\n"
     ]
    }
   ],
   "source": [
    "rewards = []\n",
    "\n",
    "for episode in range(total_episodes):\n",
    "    \n",
    "    \n",
    "    state = env.reset()\n",
    "    step = 0\n",
    "    done = False\n",
    "    total_rewards = 0\n",
    "    \n",
    "    for step in range(max_steps):\n",
    "        \n",
    "        \n",
    "        exp_exp_tradeoff = random.uniform(0, 1)\n",
    "        \n",
    "        if exp_exp_tradeoff > epsilon : \n",
    "            action = np.argmax(qtable[state, : ])\n",
    "            \n",
    "        else :            \n",
    "            action = env.action_space.sample()\n",
    "            \n",
    "        \n",
    "        new_state, reward, done, info, = env.step(action)\n",
    "        \n",
    "        \n",
    "        qtable[state, action] = qtable[state, action] + learning_rate*(reward + gamma * np.max(qtable[new_state,:]) - qtable[state, action]) \n",
    "        \n",
    "        total_rewards += reward\n",
    "        \n",
    "        \n",
    "        state = new_state\n",
    "        \n",
    "        \n",
    "        if done == True :\n",
    "            \n",
    "            break\n",
    "        \n",
    "    epsilon = min_epsilon + (max_epsilon - min_epsilon) * np.exp(-decay_rate * episode)\n",
    "    rewards.append(total_rewards)\n",
    "print(\"Score over time : \"+ str(sum(rewards)/total_episodes))\n",
    "print(qtable)\n",
    "        \n",
    "    \n",
    "    \n",
    "    \n"
   ]
  },
  {
   "cell_type": "code",
   "execution_count": 16,
   "metadata": {},
   "outputs": [
    {
     "name": "stdout",
     "output_type": "stream",
     "text": [
      "********************\n",
      "Episode :  0\n",
      "Number of steps :  48\n",
      "********************\n",
      "Episode :  1\n",
      "Number of steps :  13\n",
      "********************\n",
      "Episode :  2\n",
      "Number of steps :  15\n",
      "********************\n",
      "Episode :  3\n",
      "Number of steps :  55\n",
      "********************\n",
      "Episode :  4\n",
      "Number of steps :  7\n"
     ]
    }
   ],
   "source": [
    "env.reset()\n",
    "\n",
    "\n",
    "for episode in range(5):\n",
    "    \n",
    "    state = env.reset()\n",
    "    step = 0\n",
    "    done = False\n",
    "    \n",
    "    print(\"*\"*20)\n",
    "    print(\"Episode : \", episode)\n",
    "    \n",
    "    \n",
    "    for step in range(max_steps):\n",
    "        \n",
    "        action = np.argmax(qtable[state, : ])\n",
    "        \n",
    "        newstate, reward, done, info = env.step(action)\n",
    "        \n",
    "        if done:\n",
    "            \n",
    "            print(\"Number of steps : \", step)\n",
    "            break\n",
    "            \n",
    "        state = new_state\n",
    "env.close()\n",
    "        \n",
    "        \n",
    "    \n",
    "\n"
   ]
  },
  {
   "cell_type": "code",
   "execution_count": null,
   "metadata": {},
   "outputs": [],
   "source": []
  },
  {
   "cell_type": "code",
   "execution_count": null,
   "metadata": {},
   "outputs": [],
   "source": []
  }
 ],
 "metadata": {
  "kernelspec": {
   "display_name": "Python 3",
   "language": "python",
   "name": "python3"
  },
  "language_info": {
   "codemirror_mode": {
    "name": "ipython",
    "version": 3
   },
   "file_extension": ".py",
   "mimetype": "text/x-python",
   "name": "python",
   "nbconvert_exporter": "python",
   "pygments_lexer": "ipython3",
   "version": "3.6.5"
  }
 },
 "nbformat": 4,
 "nbformat_minor": 2
}
